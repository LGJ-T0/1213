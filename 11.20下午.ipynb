{
 "cells": [
  {
   "cell_type": "code",
   "execution_count": 4,
   "id": "8dabbe66-a461-4a05-8e18-49265316526e",
   "metadata": {},
   "outputs": [],
   "source": [
    "from sklearn. datasets import load_breast_cancer \n",
    "from sklearn. model_selection import train_test_split \n",
    "from sklearn. linear_model import LogisticRegression \n",
    "from sklearn. metrics import classification_report, accuracy_score"
   ]
  },
  {
   "cell_type": "markdown",
   "id": "8f2ac67a-bba8-42d2-9fd5-c63b2fa93c01",
   "metadata": {},
   "source": [
    "# 加载数据集"
   ]
  },
  {
   "cell_type": "code",
   "execution_count": 5,
   "id": "da319c27-5409-4258-a359-e63c2da85487",
   "metadata": {},
   "outputs": [],
   "source": [
    "#加载sklearn 自带的乳腺癌(分类)数据集\n",
    "X, y = load_breast_cancer(return_X_y=True)"
   ]
  },
  {
   "cell_type": "markdown",
   "id": "f802778e-ffca-4a22-84c7-db1866c324a7",
   "metadata": {},
   "source": [
    "# 划分训练和测试集"
   ]
  },
  {
   "cell_type": "code",
   "execution_count": 7,
   "id": "156375da-710d-4ce2-a030-bd72da3525fb",
   "metadata": {},
   "outputs": [],
   "source": [
    "#以指定比例将数据集分为训练集和测试集\n",
    "X_train, X_test, y_train, y_test= train_test_split(\n",
    "    X,y,\n",
    "    train_size=0.875, test_size=0.125, random_state=188\n",
    ")"
   ]
  },
  {
   "cell_type": "markdown",
   "id": "28ef3a24-9156-4f01-bcca-be82d8a5dacb",
   "metadata": {},
   "source": [
    "# 创建逻辑斯蒂归回模型"
   ]
  },
  {
   "cell_type": "code",
   "execution_count": 9,
   "id": "a6fbb8f8-ec22-491e-9949-6a676f6c8c8b",
   "metadata": {},
   "outputs": [
    {
     "data": {
      "text/plain": [
       "LogisticRegression(max_iter=3000, multi_class='ovr')"
      ]
     },
     "execution_count": 9,
     "metadata": {},
     "output_type": "execute_result"
    }
   ],
   "source": [
    "#使用 lr 类，初始化模型\n",
    "clf = LogisticRegression(\n",
    "    penalty=\"l2\", C=1.0, random_state=None, solver=\"lbfgs\", max_iter=3000, \n",
    "    multi_class='ovr', verbose=0,\n",
    ")\n",
    "# 使用训练数据来学习（拟合)\n",
    "clf.fit(X_train, y_train)"
   ]
  },
  {
   "cell_type": "markdown",
   "id": "a6e30cbe-7a26-4e97-948b-aed27a2467b4",
   "metadata": {},
   "source": [
    "# 使用测试数据进行预测"
   ]
  },
  {
   "cell_type": "code",
   "execution_count": 10,
   "id": "459a75ee-89f9-4595-a309-cf3531a1be06",
   "metadata": {},
   "outputs": [],
   "source": [
    "#使用测试数据来预测，返回值预测分类数据\n",
    "y_pred = clf.predict(x_test)"
   ]
  },
  {
   "cell_type": "markdown",
   "id": "13241fa8-49c5-4942-a416-18e1727285cc",
   "metadata": {},
   "source": [
    "# 评估模型性能"
   ]
  },
  {
   "cell_type": "code",
   "execution_count": 11,
   "id": "7df083cb-741f-44ea-9271-4dbce29cb2cc",
   "metadata": {},
   "outputs": [
    {
     "name": "stdout",
     "output_type": "stream",
     "text": [
      "--report---\n",
      "              precision    recall  f1-score   support\n",
      "\n",
      "           0       0.96      0.96      0.96        27\n",
      "           1       0.98      0.98      0.98        45\n",
      "\n",
      "    accuracy                           0.97        72\n",
      "   macro avg       0.97      0.97      0.97        72\n",
      "weighted avg       0.97      0.97      0.97        72\n",
      "\n",
      "-- params--\n",
      "[[ 0.89960769  0.17888852 -0.30396602  0.02572356 -0.17667936 -0.19319243\n",
      "  -0.56543832 -0.30645813 -0.25374937 -0.02428212 -0.07407326  1.09546992\n",
      "   0.11108786 -0.10663238 -0.02759738  0.0854027  -0.03498365 -0.0387471\n",
      "  -0.03079349  0.01957814  0.26004763 -0.45621821 -0.07916768 -0.01658918\n",
      "  -0.36072651 -0.6348124  -1.54604075 -0.6192092  -0.72734147 -0.06821056]] [28.59968311]\n",
      "--- accuracy---\n",
      "0.9722222222222222\n"
     ]
    }
   ],
   "source": [
    "#打印主要分类指标的文本报告\n",
    "print('--report---')\n",
    "print(classification_report(y_test, y_pred))\n",
    "#打印模型的参数\n",
    "print('-- params--')\n",
    "print(clf.coef_, clf.intercept_)\n",
    "# 打印准确率\n",
    "print('--- accuracy---')\n",
    "print(accuracy_score(y_test, y_pred))"
   ]
  },
  {
   "cell_type": "code",
   "execution_count": null,
   "id": "0ccfa475-bf26-472b-b623-69847ca0e301",
   "metadata": {},
   "outputs": [],
   "source": []
  }
 ],
 "metadata": {
  "kernelspec": {
   "display_name": "Python 3 (ipykernel)",
   "language": "python",
   "name": "python3"
  },
  "language_info": {
   "codemirror_mode": {
    "name": "ipython",
    "version": 3
   },
   "file_extension": ".py",
   "mimetype": "text/x-python",
   "name": "python",
   "nbconvert_exporter": "python",
   "pygments_lexer": "ipython3",
   "version": "3.9.7"
  }
 },
 "nbformat": 4,
 "nbformat_minor": 5
}
