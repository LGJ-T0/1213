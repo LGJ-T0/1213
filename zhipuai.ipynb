{
 "cells": [
  {
   "cell_type": "code",
   "execution_count": 3,
   "id": "6d6a06bd-f5a1-4ce8-9ced-c66aa7b204d9",
   "metadata": {},
   "outputs": [],
   "source": [
    "import os\n",
    "from zhipuai import ZhipuAI\n",
    "import base64 #导入base64库,用于将视频文件编码成base64字符申格式\n",
    "os.environ[\"ZHIPUAI_API_KEY\"] = \"e5fa029e78954e9f90ba3df4c1daa2ce.dHGHHwLTueHoSGeM\"\n",
    "client = ZhipuAI()"
   ]
  },
  {
   "cell_type": "code",
   "execution_count": 2,
   "id": "31619038-61c3-4151-ba88-d6dd402870aa",
   "metadata": {},
   "outputs": [
    {
     "data": {
      "text/plain": [
       "'C:\\\\Users\\\\admin\\\\Desktop'"
      ]
     },
     "execution_count": 2,
     "metadata": {},
     "output_type": "execute_result"
    }
   ],
   "source": [
    "pwd\n"
   ]
  },
  {
   "cell_type": "markdown",
   "id": "54c81dce-70af-45a1-91d6-a7ea2a7c71e9",
   "metadata": {
    "jp-MarkdownHeadingCollapsed": true,
    "tags": []
   },
   "source": []
  },
  {
   "cell_type": "code",
   "execution_count": 17,
   "id": "05448076-cfd4-4732-a4c9-4b13f83a4ce4",
   "metadata": {},
   "outputs": [
    {
     "name": "stdout",
     "output_type": "stream",
     "text": [
      "通常来说,视频理解的响应时间较长,需要等待数十秒......\n",
      "CompletionMessage(content='画面中出现一个长着紫色头发的卡通人物，她右手拿着一根棍子，眼睛看向画面的右侧。镜头切换，出现了一个长着白色头发的人物和一个长着棕色头发的人物，他们俩正在对峙。白头发的人用左手拿枪指着棕头发的人的脑袋，棕头发的人双手举起表示投降。随后镜头切换到紫发人物的正面，她正坐在一块石头上看着手中的棍子。镜头再次切换，出现一个留着黑色短发和络腮胡子的男人，他正举着右手中的枪对着面前的两个人。镜头再次切换，出现一个戴着红色帽子、有着紫色头发的卡通人物，她正举着手中的枪对着面前的一个笼子。镜头再次切换，出现一个穿着红色衣服的男人，他正举着右手中的枪对着面前的两个卡通人物。最后，镜头再次切换，出现一个长着白色头发、蓝色眼睛的卡通人物，她正举着手中的枪对着画面的左侧。', role='assistant', tool_calls=None)\n"
     ]
    }
   ],
   "source": [
    "video_path = \"约德尔人.mp4\" #设置视频文件的路径\n",
    "with open(video_path, 'rb') as video_file: #以\"二进制读\"模式打开视频文件\n",
    "    video_base = base64.b64encode(video_file.read()).decode('utf-8')# 把视频文件编码成智谱支持的video_base64字符申，再解码成utf-8格式字符申\n",
    "    print(\"通常来说,视频理解的响应时间较长,需要等待数十秒......\")\n",
    "    response = client.chat.completions.create( # 直接调补全接口\n",
    "        model=\"glm-4v-plus\", #设置智谱具体大模型，glm-4v-plus支持视频理解\n",
    "        temperature=0.0,#设置温度参数,控制生成文本的随机性,0.0表示不随机,输出最可能的文本\n",
    "        top_p=0,# 设置top_p参数，控制生成文本的多样性，0表示不使用此参数\n",
    "        \n",
    "        messages=[{# 设置消息列表\n",
    "            \"role\":\"user\",# 指定消息的角色为用户\n",
    "            \"content\": [{ #定义消息内容列表\n",
    "                \"type\": \"video_url\", #设置视频链接\n",
    "                \"video_url\": {\"url\" : video_base} #将编码后的视频以base64字符串形式作为链接\n",
    "              },{\n",
    "                \"type\": \"text\", #设置提问/提示词类型为文本\n",
    "                \"text\":\"请仔细，视频里讲了什么？\"# 设置提问/提示词\n",
    "              }]\n",
    "    }]\n",
    ")\n",
    "print(response.choices[0].message) #输出回答列表中的第一个选项中的消息"
   ]
  },
  {
   "cell_type": "code",
   "execution_count": null,
   "id": "901b3e65-d5e6-40ec-ad48-fe12077db759",
   "metadata": {},
   "outputs": [],
   "source": []
  }
 ],
 "metadata": {
  "kernelspec": {
   "display_name": "Python 3 (ipykernel)",
   "language": "python",
   "name": "python3"
  },
  "language_info": {
   "codemirror_mode": {
    "name": "ipython",
    "version": 3
   },
   "file_extension": ".py",
   "mimetype": "text/x-python",
   "name": "python",
   "nbconvert_exporter": "python",
   "pygments_lexer": "ipython3",
   "version": "3.9.7"
  }
 },
 "nbformat": 4,
 "nbformat_minor": 5
}
